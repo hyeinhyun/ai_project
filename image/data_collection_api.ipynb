{
 "cells": [
  {
   "cell_type": "code",
   "execution_count": null,
   "metadata": {},
   "outputs": [],
   "source": [
    "import util\n",
    "import sys\n",
    "import re\n",
    "import os\n",
    "#Arrays for video queue\n",
    "match = []\n",
    "\n",
    "print(util.bcolors.WARNING + \"\\ntwitch-dl ~ https://github.com/0xf77/twitch-dl\" + util.bcolors.ENDC + \"\\n\")\n",
    "\n",
    "if len(sys.argv) < 2:\n",
    "     print(util.bcolors.FAIL + \"[e] No URL to download, use: https://www.twitch.tv/videos/...\" + util.bcolors.ENDC)\n",
    "     quit()\n",
    "\n",
    "for videos in sys.argv:\n",
    "    print(sys.argv)\n",
    "    if re.findall(r'\\d+', videos):\n",
    "        match.append(re.findall(r'\\d+', videos)[0])\n",
    "                #print(match)\n",
    "print(util.bcolors.WARNING + \"It could take some seconds to start the download!\" + util.bcolors.ENDC)\n",
    "for video_id in match:\n",
    "    if not os.path.exists(video_id):\n",
    "        os.mkdir(video_id)\n",
    "    video_infos = util.getVideoInfo(video_id)\n",
    "    print(util.bcolors.OKGREEN + \"Downloading: \" + video_infos['title'] + \" from \" +util.bcolors.ENDC)\n",
    "    util.downloadVideo(video_id)\n",
    "\n",
    "print(util.bcolors.FAIL + \"Bye! ❤️\" + util.bcolors.ENDC)"
   ]
  }
 ],
 "metadata": {
  "kernelspec": {
   "display_name": "py140",
   "language": "python",
   "name": "py140"
  },
  "language_info": {
   "codemirror_mode": {
    "name": "ipython",
    "version": 3
   },
   "file_extension": ".py",
   "mimetype": "text/x-python",
   "name": "python",
   "nbconvert_exporter": "python",
   "pygments_lexer": "ipython3",
   "version": "3.6.10"
  }
 },
 "nbformat": 4,
 "nbformat_minor": 2
}
